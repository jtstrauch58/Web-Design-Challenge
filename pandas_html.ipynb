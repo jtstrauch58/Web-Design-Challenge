{
 "cells": [
  {
   "cell_type": "markdown",
   "metadata": {},
   "source": [
    "# Using Panadas to Create HTML Table Code\n",
    "## Import weather data csv, create dataframe then output table to txt file"
   ]
  },
  {
   "cell_type": "code",
   "execution_count": 1,
   "metadata": {},
   "outputs": [],
   "source": [
    "import csv\n",
    "import pandas as pd"
   ]
  },
  {
   "cell_type": "code",
   "execution_count": 2,
   "metadata": {},
   "outputs": [],
   "source": [
    "path = 'Resources/cities_data.csv'\n",
    "df = pd.read_csv(path)\n",
    "df.dropna(axis=0, how = 'any', inplace = True)\n",
    "df.drop_duplicates(subset = 'City', inplace = True)\n",
    "df.reset_index(drop=True, inplace = True)\n",
    "# df.set_index('City_ID', inplace = True)\n",
    "df.rename(columns={'Latitude': 'Lat', 'Longitude':'Lng', 'Max_Temp(F)':'Temp(F)', 'Humidity(%)':'Humidity',\n",
    "                  'Wind_Speed(MPH)': 'Wind(MPH)'}, inplace = True)"
   ]
  },
  {
   "cell_type": "code",
   "execution_count": 3,
   "metadata": {},
   "outputs": [
    {
     "data": {
      "text/html": [
       "<div>\n",
       "<style scoped>\n",
       "    .dataframe tbody tr th:only-of-type {\n",
       "        vertical-align: middle;\n",
       "    }\n",
       "\n",
       "    .dataframe tbody tr th {\n",
       "        vertical-align: top;\n",
       "    }\n",
       "\n",
       "    .dataframe thead th {\n",
       "        text-align: right;\n",
       "    }\n",
       "</style>\n",
       "<table border=\"1\" class=\"dataframe\">\n",
       "  <thead>\n",
       "    <tr style=\"text-align: right;\">\n",
       "      <th></th>\n",
       "      <th>City_ID</th>\n",
       "      <th>City</th>\n",
       "      <th>Country</th>\n",
       "      <th>Lat</th>\n",
       "      <th>Lng</th>\n",
       "      <th>Temp(F)</th>\n",
       "      <th>Humidity</th>\n",
       "      <th>Cloudiness</th>\n",
       "      <th>Wind(MPH)</th>\n",
       "    </tr>\n",
       "  </thead>\n",
       "  <tbody>\n",
       "    <tr>\n",
       "      <th>0</th>\n",
       "      <td>1</td>\n",
       "      <td>marawi</td>\n",
       "      <td>sd</td>\n",
       "      <td>18.5</td>\n",
       "      <td>31.8</td>\n",
       "      <td>85.3</td>\n",
       "      <td>17</td>\n",
       "      <td>7</td>\n",
       "      <td>12.8</td>\n",
       "    </tr>\n",
       "    <tr>\n",
       "      <th>1</th>\n",
       "      <td>2</td>\n",
       "      <td>butaritari</td>\n",
       "      <td>ki</td>\n",
       "      <td>3.1</td>\n",
       "      <td>172.8</td>\n",
       "      <td>82.1</td>\n",
       "      <td>83</td>\n",
       "      <td>68</td>\n",
       "      <td>20.5</td>\n",
       "    </tr>\n",
       "    <tr>\n",
       "      <th>2</th>\n",
       "      <td>3</td>\n",
       "      <td>balkanabat</td>\n",
       "      <td>tm</td>\n",
       "      <td>39.5</td>\n",
       "      <td>54.4</td>\n",
       "      <td>55.0</td>\n",
       "      <td>63</td>\n",
       "      <td>1</td>\n",
       "      <td>7.6</td>\n",
       "    </tr>\n",
       "  </tbody>\n",
       "</table>\n",
       "</div>"
      ],
      "text/plain": [
       "   City_ID        City Country   Lat    Lng Temp(F)  Humidity  Cloudiness  \\\n",
       "0        1      marawi      sd  18.5   31.8    85.3        17           7   \n",
       "1        2  butaritari      ki   3.1  172.8    82.1        83          68   \n",
       "2        3  balkanabat      tm  39.5   54.4    55.0        63           1   \n",
       "\n",
       "  Wind(MPH)  \n",
       "0      12.8  \n",
       "1      20.5  \n",
       "2       7.6  "
      ]
     },
     "execution_count": 3,
     "metadata": {},
     "output_type": "execute_result"
    }
   ],
   "source": [
    "df['Lat'] = df['Lat'].map(\"{:,.1f}\".format)\n",
    "df['Lng'] = df['Lng'].map(\"{:,.1f}\".format)\n",
    "df['Temp(F)'] = df['Temp(F)'].map(\"{:,.1f}\".format)\n",
    "df['Wind(MPH)'] = df['Wind(MPH)'].map(\"{:,.1f}\".format)\n",
    "df.head(3)"
   ]
  },
  {
   "cell_type": "code",
   "execution_count": 4,
   "metadata": {},
   "outputs": [],
   "source": [
    "city_html_table = df.to_html(bold_rows = True, header = True, index = False, index_names = False)"
   ]
  },
  {
   "cell_type": "code",
   "execution_count": 5,
   "metadata": {},
   "outputs": [],
   "source": [
    "city_data_html = open('data.html', 'w')\n",
    "city_data_html.write(city_html_table)\n",
    "city_data_html.close()"
   ]
  },
  {
   "cell_type": "code",
   "execution_count": null,
   "metadata": {},
   "outputs": [],
   "source": []
  }
 ],
 "metadata": {
  "kernelspec": {
   "display_name": "Python [conda env:PythonData] *",
   "language": "python",
   "name": "conda-env-PythonData-py"
  },
  "language_info": {
   "codemirror_mode": {
    "name": "ipython",
    "version": 3
   },
   "file_extension": ".py",
   "mimetype": "text/x-python",
   "name": "python",
   "nbconvert_exporter": "python",
   "pygments_lexer": "ipython3",
   "version": "3.6.10"
  }
 },
 "nbformat": 4,
 "nbformat_minor": 4
}
